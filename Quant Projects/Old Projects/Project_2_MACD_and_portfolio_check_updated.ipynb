{
 "cells": [
  {
   "cell_type": "markdown",
   "id": "a1be3e30",
   "metadata": {},
   "source": [
    "# Second Project: MACD and Portfolio Check"
   ]
  },
  {
   "cell_type": "markdown",
   "id": "ec43be14",
   "metadata": {},
   "source": [
    "## Introduction\n",
    "This project focuses on analyzing the Moving Average Convergence Divergence (MACD) indicator and checking portfolio performance. The aim is to explore the effectiveness of the MACD indicator in trading strategies and assess the performance of a given portfolio."
   ]
  },
  {
   "cell_type": "markdown",
   "id": "114bb2c4",
   "metadata": {},
   "source": [
    "## Table of Contents\n",
    "1. Introduction\n",
    "2. MACD Analysis\n",
    "3. Portfolio Performance Check\n",
    "4. Conclusion\n",
    "5. References"
   ]
  },
  {
   "cell_type": "markdown",
   "metadata": {
    "id": "hGTf4Gd7ajFk"
   },
   "source": [
    "# **MACD**"
   ]
  },
  {
   "cell_type": "markdown",
   "metadata": {
    "id": "Edil-EjQbRLy"
   },
   "source": [
    "### **October 30 2022**"
   ]
  },
  {
   "cell_type": "markdown",
   "metadata": {
    "id": "jz3KSHf-anMk"
   },
   "source": [
    "We thought that a MACD-graph could not not help, so we decided to implement it as well. I remember that my coding at this time was heavily influenced by the \"Je-suit-TM\"-profile on Github. Thank you!\n",
    "\n",
    "Here is a translated note from our log:  \"*Tried to find models for indicators such as MACD. Since I couldn't find any that solve it in an elegant manner, the only choice is to do it myself.*\""
   ]
  },
  {
   "cell_type": "markdown",
   "metadata": {
    "id": "N8d0IJPNcGYP"
   },
   "source": [
    "Notable is the rapid developement of the programming over the last month. Let's go through the portfolio function since it's quite interesting:"
   ]
  },
  {
   "cell_type": "markdown",
   "metadata": {
    "id": "vBHG0mk1TMn4"
   },
   "source": [
    "#  Portfolio Function\n",
    "\n",
    "The name 'portfolio' almost says it all. We want to calculate a hypothetical portfolio over time and we want to do it fast, so we use pandas. Below are all the necessary steps.\n",
    "\n",
    "## Function Inputs and Parameters\n",
    "\n",
    "- `signals`: DataFrame containing trading signals and closing prices.\n",
    "  - \\( S \\) - Trading signals indicating buy (1) or sell (-1) positions.\n",
    "  - \\( P \\) - Closing prices of the asset.\n",
    "- `capital0`: Initial capital, defaulting to $10,000.\n",
    "- `positions`: Number of shares involved per trading position, defaulting to 100.\n",
    "\n",
    "## Mathematical Formulation\n",
    "\n",
    "### Step 1: Cumulative Sum of Trading Signals\n",
    "\n",
    "$$\\text{cumsum}_i = \\sum_{j=1}^i S_j $$\n",
    "\n",
    "- This alculates the cumulative sum of signals. Basically we have a series of zeros with 1 or -1 here and there and we want to change that to a series of only 1 or -1. This sum does exactly that. Why do we want that? In the near future, we would like to add some kind of return to the series and this is just purely a better format for that.  \n",
    "\n",
    "### Step 2: Holdings Calculation\n",
    "\n",
    "$$\\text{holdings}_i = \\text{cumsum}_i \\cdot P_i \\cdot \\text{positions} $$\n",
    "\n",
    "- This computes the value of current holdings based on net positions and current price. So we take i.e. close price and add that to the series.\n",
    "\n",
    "### Step 3: Cash Calculation\n",
    "\n",
    "$$\\text{cash}_i = \\text{capital}_0 - \\sum_{j=1}^i (S_j \\cdot P_j \\cdot \\text{positions}) $$\n",
    "\n",
    "- Calculates the remaining cash after accounting for all trading transactions up to time \\( i \\).\n",
    "\n",
    "### Step 4: Total Asset Calculation\n",
    "\n",
    "$$ \\text{total asset}_i = \\text{holdings}_i + \\text{cash}_i $$\n",
    "\n",
    "- Sum of current holdings and remaining cash, representing total value of the asset portfolio.\n",
    "\n",
    "### Step 5: Portfolio Returns Calculation\n",
    "\n",
    "$$ \\text{return}_i = \\frac{\\text{total asset}_i - \\text{total asset}_{i-1}}{\\text{total asset}_{i-1}} $$\n",
    "\n",
    "- Calculates the percentage change in the portfolio's total value from the previous time step to the current one.\n",
    "\n",
    "### Step 6: Total Return Calculation\n",
    "\n",
    "$$ \\text{total return}_i = \\prod_{j=1}^i (1 + \\text{return}_j) $$\n",
    "\n",
    "- Computes the cumulative product of returns, indicating the overall growth of the portfolio over time. We use cumprod since we want compounded returns. Another way we could have done this is taking the logarithm of the data and then just use cumsum (multiplication becomes addition when we log the series).\n",
    "\n",
    "## Outputs\n",
    "\n",
    "- **Portfolio DataFrame**: Returns a DataFrame structured as follows:\n",
    "  - `holdings`: Value of holdings over time.\n",
    "  - `cash`: Remaining cash over time.\n",
    "  - `total asset`: Total asset value over time.\n",
    "  - `return`: Percentage change in total asset value.\n",
    "  - `total return`: Cumulative growth of the portfolio.\n",
    "  - `signals`: Trading signals used in computations.\n",
    "  - `date`: Dates for each data point.\n"
   ]
  },
  {
   "cell_type": "code",
   "execution_count": null,
   "metadata": {
    "id": "wj7344cuaiME"
   },
   "outputs": [],
   "source": [
    "import matplotlib.pyplot as plt\n",
    "import numpy as np\n",
    "import pandas as pd\n",
    "import yfinance as yf"
   ]
  },
  {
   "cell_type": "code",
   "execution_count": null,
   "metadata": {
    "id": "jUckTjnkbcWX"
   },
   "outputs": [],
   "source": [
    "ma1=12\n",
    "ma2=26\n",
    "slicer=5\n",
    "initial_wealth=1000"
   ]
  },
  {
   "cell_type": "code",
   "execution_count": null,
   "metadata": {
    "id": "xEuy_G-SbiMr"
   },
   "outputs": [],
   "source": [
    "# This is just the signal creation, taken from JSTM\n",
    "def macd_signal_generation(df,method):\n",
    "\n",
    "    signals=method(df)\n",
    "    signals['positions']=0\n",
    "\n",
    "    #positions becomes and stays one once the short moving average is above long moving average\n",
    "    signals['positions'][ma1:]=np.where(signals['ma1'][ma1:]>=signals['ma2'][ma1:],1,0)\n",
    "\n",
    "\n",
    "    #we take the difference to generate real trade signal\n",
    "    signals['signals']=signals['positions'].diff()\n",
    "\n",
    "    #oscillator is the difference between two moving average\n",
    "    #when it is positive, we long, vice versa\n",
    "    signals['oscillator']=signals['ma1']-signals['ma2']\n",
    "\n",
    "    return signals"
   ]
  },
  {
   "cell_type": "code",
   "execution_count": null,
   "metadata": {
    "id": "sU9sl2qlb5VT"
   },
   "outputs": [],
   "source": [
    "def portfolio(signals,capital0=10000,positions=100):\n",
    "\n",
    "    #cumsum column is created to check the holding of the position\n",
    "    signals['cumsum']=signals['signals'].cumsum()\n",
    "\n",
    "\n",
    "    portfolio=pd.DataFrame()\n",
    "    portfolio['holdings']=signals['cumsum']*signals['Close']*positions\n",
    "    portfolio['cash']=capital0-(signals['signals']*signals['Close']*positions).cumsum()\n",
    "    portfolio['total asset']=portfolio['holdings']+portfolio['cash']\n",
    "    portfolio['return']=portfolio['total asset'].pct_change()\n",
    "    portfolio['total return']=(1+portfolio['return']).cumprod()\n",
    "    portfolio['signals']=signals['signals']\n",
    "    portfolio['date']=signals['Date']\n",
    "    portfolio.set_index('date',inplace=True)\n",
    "    portfolio[['holdings', 'cash','total asset']].to_csv('signals_data_1.csv')\n",
    "    print(portfolio['total return'])\n",
    "    #if you want to add a short strategy, do the exact same thing and compare the total return percentage: (1+return_long+return_short).cumprod()\n",
    "    return portfolio\n"
   ]
  },
  {
   "cell_type": "code",
   "execution_count": null,
   "metadata": {
    "id": "ToR9s279b7gG"
   },
   "outputs": [],
   "source": [
    "def profit(portfolio):\n",
    "\n",
    "    fig=plt.figure()\n",
    "    bx=fig.add_subplot(111)\n",
    "\n",
    "    portfolio['total asset'].plot(label='Total Asset')\n",
    "\n",
    "    #long/short position markers related to the portfolio\n",
    "    #the same mechanism as the previous one\n",
    "    #replace close price with total asset value\n",
    "    bx.plot(portfolio['signals'].loc[portfolio['signals']==1].index,portfolio['total asset'][portfolio['signals']==1],lw=0,marker='^',c='g',label='long')\n",
    "    bx.plot(portfolio['signals'].loc[portfolio['signals']<0].index,portfolio['total asset'][portfolio['signals']<0],lw=0,marker='v',c='r',label='short')\n",
    "\n",
    "    plt.legend(loc='best')\n",
    "    plt.grid(True)\n",
    "    plt.xlabel('Date')\n",
    "    plt.ylabel('Asset Value')\n",
    "    plt.title('Total Asset')\n",
    "    plt.show()\n"
   ]
  },
  {
   "cell_type": "code",
   "execution_count": null,
   "metadata": {
    "id": "suaT1b-Fb8L2"
   },
   "outputs": [],
   "source": [
    "#plotting the backtesting result\n",
    "def macd_plot(new, ticker):\n",
    "\n",
    "\n",
    "    fig=plt.figure(figsize=[12,8])\n",
    "    cx=fig.add_subplot(211)\n",
    "\n",
    "    new['oscillator'].plot(kind='bar',color='r')\n",
    "\n",
    "    plt.legend(loc='best')\n",
    "    plt.grid(True)\n",
    "    plt.xticks([])\n",
    "    plt.xlabel('')\n",
    "    plt.title('MACD Oscillator')\n",
    "\n",
    "    bx=fig.add_subplot(212)\n",
    "\n",
    "    new['ma1'].plot(label='ma1')\n",
    "    new['ma2'].plot(label='ma2',linestyle=':')\n",
    "\n",
    "    plt.legend(loc='best')\n",
    "    plt.grid(True)\n",
    "    plt.title('MA for {}'.format(ticker))\n",
    "    plt.savefig('MACD_MA_graph.png')\n"
   ]
  }
 ],
 "metadata": {
  "colab": {
   "provenance": []
  },
  "kernelspec": {
   "display_name": "Python 3",
   "name": "python3"
  },
  "language_info": {
   "name": "python"
  }
 },
 "nbformat": 4,
 "nbformat_minor": 0
}
