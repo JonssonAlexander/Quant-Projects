{
 "cells": [
  {
   "cell_type": "markdown",
   "id": "1f27eb10",
   "metadata": {},
   "source": [
    "# Review of Stop Loss and Drawdown Strategies"
   ]
  },
  {
   "cell_type": "markdown",
   "id": "a6e18be2",
   "metadata": {},
   "source": [
    "## Introduction\n",
    "This project reviews various stop loss and drawdown strategies used in trading. The focus is to analyze their effectiveness in risk management and performance enhancement."
   ]
  },
  {
   "cell_type": "markdown",
   "id": "b13cfe4b",
   "metadata": {},
   "source": [
    "## Table of Contents\n",
    "1. Introduction\n",
    "2. Types of Stop Loss Strategies\n",
    "3. Drawdown Analysis\n",
    "4. Strategy Comparison\n",
    "5. Results and Discussion\n",
    "6. Conclusion\n",
    "7. References"
   ]
  },
  {
   "cell_type": "markdown",
   "metadata": {
    "id": "R4IN6W4La3sp"
   },
   "source": [
    "# Here is a review of both the drawdown and the stop-loss function:"
   ]
  },
  {
   "cell_type": "markdown",
   "metadata": {
    "id": "oHf4T76_cX10"
   },
   "source": [
    "# **Stop Loss**"
   ]
  },
  {
   "cell_type": "markdown",
   "metadata": {
    "id": "SLD5TEq7bH5M"
   },
   "source": [
    "This one I am particulary proud of. This is a vectorised stop loss function. Since I only read one *linear algebra* course at this time, you probably can condense it a bit more. Nevertheless, it is best that we go through it."
   ]
  },
  {
   "cell_type": "markdown",
   "metadata": {
    "id": "1545jKALczwx"
   },
   "source": [
    "\n",
    "\n",
    "## Function Inputs and Parameters\n",
    "\n",
    "- `volume_signals`: DataFrame containing signals for buy and sell actions.\n",
    "  - `Sell` - Binary indicator for sell signals.\n",
    "  - `Index` - Index of the data points.\n",
    "  - `Buy` - Binary indicator for buy signals.\n",
    "\n",
    "## Mathematical Formulation\n",
    "\n",
    "### Step 1: Extract Relevant Columns as NumPy Array\n",
    "\n",
    "The relevant columns are extracted from the DataFrame and converted to a NumPy array:\n",
    "\n",
    "$$ \\text{SellVector} = \\begin{pmatrix} \\text{Sell} & \\text{Index} & \\text{Buy} \\end{pmatrix} $$\n",
    "\n",
    "### Step 2: Identify Sell Signal Changes\n",
    "\n",
    "Identify indices where the sell signal changes from 0 to 1 (indicating a new sell signal):\n",
    "\n",
    "$$ a = \\{ i \\mid \\text{Sell}_i - \\text{Sell}_{i-1} = 1 \\} $$\n",
    "\n",
    "If the length of \\( a \\) is odd, the last element is removed to ensure even pairing:\n",
    "\n",
    "$$ \\text{if } |a| \\% 2 \\neq 0, \\text{ then remove the last element of } a $$\n",
    "\n",
    "### Step 3: Split Indices for Sell Dates\n",
    "\n",
    "The indices are split into two equal parts:\n",
    "\n",
    "$$ \\text{Split1\\_SellDatesVector} = \\{ a_{2i} \\} $$\n",
    "$$ \\text{Split2\\_SellDatesVector} = \\{ a_{2i+1} \\} $$\n",
    "\n",
    "### Step 4: Initialize Buy and Sell Date Arrays\n",
    "\n",
    "Initialize arrays to store buy and sell dates:\n",
    "\n",
    "$$ \\text{buydatearray} = [0] $$\n",
    "$$ \\text{selldatearray} = [0] $$\n",
    "\n",
    "### Step 5: Loop Through Split Indices and Extract Dates\n",
    "\n",
    "Loop through each split vector to extract buy and sell dates:\n",
    "\n",
    "For each pair in `Split1_SellDatesVector`:\n",
    "\n",
    "1. Split `SellVector` at the specified indices.\n",
    "2. Remove the first and second sub-arrays resulting from the split.\n",
    "3. Check if there are any buy signals in the remaining sub-array.\n",
    "4. If a buy signal is found, record the buy and sell dates:\n",
    "   - `buydate`: First occurrence of a buy signal.\n",
    "   - `selldate`: Last occurrence of the sub-array.\n",
    "\n",
    "$$ \\text{buydate} = \\min \\{ i \\mid \\text{Buy}_i = 1 \\} + 2 $$\n",
    "$$ \\text{selldate} = \\max \\{ i \\mid \\text{Sell}_i = 1 \\} + 1 $$\n",
    "\n",
    "For each pair in `Split2_SellDatesVector`:\n",
    "\n",
    "1. Repeat the above steps with a different delay for the buy date:\n",
    "\n",
    "$$ \\text{buydate} = \\min \\{ i \\mid \\text{Buy}_i = 1 \\} + 1 $$\n",
    "\n",
    "### Step 6: Append Extracted Dates to Arrays\n",
    "\n",
    "Append the extracted buy and sell dates to the respective arrays:\n",
    "\n",
    "$$ \\text{buydate\\_array} \\leftarrow \\text{buydate\\_array} \\cup \\text{buydate} $$\n",
    "$$\\text{selldate\\_array} \\leftarrow \\text{selldate\\_array} \\cup \\text{selldate} $$\n",
    "\\\\\n",
    "$$ \\text{buydate\\_array} \\leftarrow \\begin{bmatrix} \\text{buydate\\_array} \\\\ \\text{buydate} \\end{bmatrix}$$\n",
    "$$ \\text{selldate\\_array} \\leftarrow \\begin{bmatrix} \\text{selldate\\_array} \\\\ \\text{selldate} \\end{bmatrix} $$\n",
    "\n",
    "Where:\n",
    "$$\\text{buydate\\_array} = \\begin{bmatrix} \\text{date}_1 \\\\ \\text{date}_2 \\\\ \\vdots \\\\ \\text{date}_n \\end{bmatrix} $$\n",
    "\\\\\n",
    "$$ \\text{selldate\\_array} = \\begin{bmatrix} \\text{date}_1 \\\\ \\text{date}_2 \\\\ \\vdots \\\\ \\text{date}_n \\end{bmatrix} $$\n",
    "\n",
    "### Outputs\n",
    "\n",
    "- `buydate_array`: Array of buy dates after processing all signals.\n",
    "- `selldate_array`: Array of sell dates after processing all signals.\n",
    "- `volume_signals`: Original DataFrame containing volume signals.\n",
    "\n",
    "The function returns the arrays of buy and sell dates, as well as the original volume signals DataFrame.\n",
    "\n"
   ]
  },
  {
   "cell_type": "code",
   "execution_count": null,
   "metadata": {
    "id": "JpyBBYTgbGow"
   },
   "outputs": [],
   "source": [
    "SellVector=volume_signals[['Sell', 'Index','Buy']].to_numpy()\n",
    "    #print(volume_signals[['Buy','Sell']])\n",
    "\n",
    "    a=np.array(np.where(volume_signals['Sell'].diff()==1))\n",
    "\n",
    "    if len(a[0])%2!=0:\n",
    "        a=np.delete(a[0],-1)\n",
    "\n",
    "\n",
    "    try:\n",
    "        Split1_SellDatesVector=np.split(a,len(a)/2)\n",
    "        Split2_SellDatesVector=np.split(a[1:-1],((len(a)-2))/2)\n",
    "    except:\n",
    "        Split1_SellDatesVector=np.split(a[0],len(a[0])/2)\n",
    "        Split2_SellDatesVector=np.split(a[0][1:-1],((len(a[0])-2))/2)\n",
    "    #print(Split2_SellDatesVector)\n",
    "    #print(Split1_SellDatesVector)\n",
    "    #Blir faktiskt ett litet fel här men spelar ingen roll i det långa loppet om en är fel.\n",
    "    buydate_array=np.array([0])\n",
    "    selldate_array=np.array([0])\n",
    "\n",
    "    for x in range(len(Split1_SellDatesVector)):\n",
    "\n",
    "        Splitted_Sell_Dates1=np.split(SellVector,Split1_SellDatesVector[x])\n",
    "        Splitted_Sell_Dates1.pop(0)\n",
    "        Splitted_Sell_Dates1.pop(1)\n",
    "\n",
    "        two_axis=np.delete(Splitted_Sell_Dates1[0],0,axis=1)\n",
    "\n",
    "        test=np.sum(two_axis, axis=0)\n",
    "        if test[1]!=0:\n",
    "            buynumber=np.where(two_axis[:,1]==1)[0][0]\n",
    "            buydate=two_axis[buynumber][0]\n",
    "            selldate=two_axis[-1][0]\n",
    "            a=np.array([buydate])\n",
    "            b=np.array([selldate])\n",
    "            a += 2 # Ändra delay här! Ändra både a och b\n",
    "            selldate_array=np.append(selldate_array,b+1, axis=0)\n",
    "            buydate_array=np.append(buydate_array,a,axis=0)\n",
    "\n",
    "        try:\n",
    "            Splitted_Sell_Dates2=np.split(SellVector,Split2_SellDatesVector[x])\n",
    "            Splitted_Sell_Dates2.pop(0)\n",
    "            Splitted_Sell_Dates2.pop(1)\n",
    "            two_axis2=np.delete(Splitted_Sell_Dates2[0],0,axis=1)\n",
    "            test=np.sum(two_axis2,axis=0)\n",
    "\n",
    "            if test[1]!=0:\n",
    "\n",
    "                buynumber=np.where(two_axis2[:,1]==1)[0][0]\n",
    "                buydate=two_axis2[buynumber][0]\n",
    "                selldate=two_axis2[-1][0]\n",
    "                a=np.array([buydate])\n",
    "                b=np.array([selldate])\n",
    "                #print(a)\n",
    "                a += 1 # Ändra delay här! Ändra både a och b\n",
    "                #print(a)\n",
    "                selldate_array=np.append(selldate_array,b+1, axis=0)\n",
    "                buydate_array=np.append(buydate_array,a,axis=0)\n",
    "        except:pass\n",
    "\n",
    "    #print(buydate_array,selldate_array)\n",
    "    print(time.time()-start_time)\n",
    "    return buydate_array,selldate_array,volume_signals"
   ]
  },
  {
   "cell_type": "markdown",
   "metadata": {
    "id": "p8CJjQO5elnL"
   },
   "source": [
    "# **Drawdown**"
   ]
  },
  {
   "cell_type": "markdown",
   "metadata": {
    "id": "c0F6-5sqeoaR"
   },
   "source": [
    "This drawdown function simply uses the cummax-function to detect peaks. Pretty short and simple."
   ]
  },
  {
   "cell_type": "markdown",
   "metadata": {
    "id": "SXVCqtFSexnp"
   },
   "source": [
    "\n",
    "\n",
    "## Function Inputs and Parameters\n",
    "\n",
    "- `portfolios`: Series or DataFrame representing the portfolio values over time.\n",
    "- `df`: DataFrame containing the closing prices of the asset.\n",
    "  - `Close` - Closing prices of the asset.\n",
    "\n",
    "## Mathematical Formulation\n",
    "\n",
    "### Step 1: Calculate Previous Peaks for Portfolio\n",
    "\n",
    "The previous peaks in the portfolio values are calculated using the cumulative maximum function:\n",
    "\n",
    "$$ \\text{previous\\_peaks}_{\\text{portfolio}, i} = \\max_{j \\leq i} \\text{portfolios}_j $$\n",
    "\n",
    "### Step 2: Calculate Portfolio Drawdown\n",
    "\n",
    "The drawdown for the portfolio is calculated as the relative difference between the current portfolio value and the previous peak, normalized by the previous peak:\n",
    "\n",
    "$$ \\text{drawdown}_{\\text{portfolio}, i} = \\frac{\\text{portfolios}_i - \\text{previous\\_peaks}_{\\text{portfolio}, i}}{\\text{previous\\_peaks}_{\\text{portfolio}, i}} $$\n",
    "\n",
    "\n",
    "\n",
    "### Step 3: Calculate Previous Peaks for Asset\n",
    "\n",
    "The previous peaks in the asset's closing prices are calculated similarly:\n",
    "\n",
    "$$\\text{previous\\_peaks}_{\\text{asset}, i} = \\max_{j \\leq i} \\text{Close}_j $$\n",
    "\n",
    "### Step 4: Calculate Asset Drawdown\n",
    "\n",
    "The drawdown for the asset is calculated as the relative difference between the current closing price and the previous peak, normalized by the previous peak:\n",
    "\n",
    "$$ \\text{drawdown}_{\\text{asset}, i} = \\frac{\\text{Close}_i - \\text{previous\\_peaks}_{\\text{asset}, i}}{\\text{previous\\_peaks}_{\\text{asset}, i}} $$\n",
    "\n",
    "\n",
    "### Outputs\n",
    "\n",
    "The function prints the minimum drawdown values for both the portfolio and the asset. There are no returned values from this function.\n",
    "\n"
   ]
  },
  {
   "cell_type": "code",
   "execution_count": null,
   "metadata": {
    "id": "4JqJgXmiXgze"
   },
   "outputs": [],
   "source": [
    "def drawdown(portfolios,df):\n",
    "    previous_peaks = portfolios.cummax()\n",
    "\n",
    "    drawdown = (portfolios - previous_peaks)/previous_peaks\n",
    "\n",
    "    print('---'*20)\n",
    "    print(f'{100*drawdown.min()}%')\n",
    "    print('---'*20)\n",
    "\n",
    "    previous_peaks2 = df['Close'].cummax()\n",
    "\n",
    "    drawdown2 = (df['Close'] - previous_peaks2)/previous_peaks2\n",
    "\n",
    "    print('---'*20)\n",
    "    print(f'{100*drawdown2.min()}%')\n",
    "    print('---'*20)"
   ]
  }
 ],
 "metadata": {
  "colab": {
   "provenance": []
  },
  "kernelspec": {
   "display_name": "Python 3",
   "name": "python3"
  },
  "language_info": {
   "name": "python"
  }
 },
 "nbformat": 4,
 "nbformat_minor": 0
}
